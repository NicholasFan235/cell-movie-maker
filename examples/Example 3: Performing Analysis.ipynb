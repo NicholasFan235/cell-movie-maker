{
 "cells": [
  {
   "cell_type": "code",
   "execution_count": null,
   "metadata": {},
   "outputs": [],
   "source": [
    "import cell_movie_maker as cmm\n",
    "import chaste_simulation_database_connector as csdc\n",
    "import matplotlib.pyplot as plt\n",
    "import numpy as np\n",
    "import pathlib\n",
    "\n",
    "\n",
    "from IPython.display import display\n",
    "import IPython.display\n",
    "\n",
    "\n",
    "cmm.Config.simulations_folder = pathlib.Path(\"chaste_output\")\n",
    "cmm.Config.output_folder = pathlib.Path(\"analysis_output\")\n",
    "\n",
    "experiment = cmm.Experiment(pathlib.Path(\"chaste_output\", \"TCellABM\"))\n",
    "simulation = experiment.simulations[0]\n",
    "sample_timepoint = simulation.timepoints[50]\n"
   ]
  }
 ],
 "metadata": {
  "language_info": {
   "name": "python"
  }
 },
 "nbformat": 4,
 "nbformat_minor": 2
}
