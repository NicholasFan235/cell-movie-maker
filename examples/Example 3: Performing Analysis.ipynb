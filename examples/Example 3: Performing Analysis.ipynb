{
 "cells": [
  {
   "cell_type": "code",
   "execution_count": null,
   "metadata": {},
   "outputs": [
    {
     "ename": "",
     "evalue": "",
     "output_type": "error",
     "traceback": [
      "\u001b[1;31mRunning cells with 'venv (Python 3.12.3)' requires the ipykernel package.\n",
      "\u001b[1;31mRun the following command to install 'ipykernel' into the Python environment. \n",
      "\u001b[1;31mCommand: '/home/fann/Code/cell-movie-maker/venv/bin/python -m pip install ipykernel -U --force-reinstall'"
     ]
    }
   ],
   "source": [
    "import cell_movie_maker as cmm\n",
    "import chaste_simulation_database_connector as csdc\n",
    "import matplotlib.pyplot as plt\n",
    "import numpy as np\n",
    "import pathlib\n",
    "\n",
    "\n",
    "from IPython.display import display\n",
    "import IPython.display\n",
    "\n",
    "\n",
    "cmm.Config.simulations_folder = pathlib.Path(\"chaste_output\")\n",
    "cmm.Config.output_folder = pathlib.Path(\"analysis_output\")\n",
    "\n",
    "experiment = cmm.Experiment(pathlib.Path(\"chaste_output\", \"TCellABM\"))\n",
    "simulation = experiment.simulations[0]\n",
    "sample_timepoint = simulation.timepoints[50]\n"
   ]
  },
  {
   "cell_type": "markdown",
   "metadata": {},
   "source": [
    "# Analysis Framework Overview\n",
    "\n",
    "The dataclass structure `Experiment`, `Simulation` and `SimulationTimepoint` help organise and retrieve CHASTE data.  \n",
    "We can manually perform analysis on a `Simulation` or `SimulationTimepoint` by reading its underlying dataframe or numpy arrays, and when developing analysis methods this is often helpful.  \n",
    "The analysis framework class structure is designed to facilitate applying this analysis to many simulations.  \n",
    "This helps organise analysis, allows us to easily define how analysis can be parallelized, and makes it easier to store and retrieve analysis in a database.  \n",
    "\n",
    "Whilst the general framework is highly flexible, the implemented analysis methods are specific to TCellABM (some methods may not work if a model is too different).  \n",
    "\n",
    "\n",
    "## Preprocessors\n",
    "`Preprocessor` is a class which can be used to perform quick preliminary analysis on a simulation.  \n",
    "The idea behind `Preprocessor` is that it is extremely quick to run on a simulation and returns a single table (csv) for each simulation where each row is a timestep and each column is an analysis result at that timestep.  \n",
    "This is only used for computing cellcounts in each frame. It is separate from the rest of the analysis framework mostly for legacy reasons, but could also be considered a very quick initial analysis of a parameter sweep, enough to plot cell population trajectories.  \n",
    "\n",
    "\n",
    "## Analysers\n",
    "`Analysers` make up the bulk of the analysis framework and the key method is `analyse` which takes as input some combination of `Simulation` and `SimulationTimepoint` and returns some analysis result. Note that the analysis result does not have to be a single number (often it is a `dict` or `Series`).  \n",
    "`Analysers` may be `SimulationAnalyser`s, which analyse an entire `Simulation` (Often this means returning a `DataFrame` where each row is a timestep and each column is some analysis result), or `TimepointAnalyser`s, which analyse single `SimulationTimepoints`.  \n"
   ]
  },
  {
   "cell_type": "markdown",
   "metadata": {},
   "source": [
    "# How to use Preprocessor\n"
   ]
  },
  {
   "cell_type": "markdown",
   "metadata": {},
   "source": [
    "# How to use Analysers\n",
    "\n",
    "NOTE: Here we will demonstrate running analysis 'manually' for a single simulation / timepoint.  \n",
    "Generally this will be in an analysis script and analysis results will be written to a database (See other example).  \n",
    "\n",
    "Most analysis is done by `TimepointAnalysers`.  \n",
    "\n",
    "Currently there is only one `SimulationAnalyser` (`MultiTimepointAnalyser`) which applies a given `TimepointAnalyser` to a specified set of timepoints (this allows `TimepointAnalyser` to only worry about analysing a single timepoint, other things e.g. storing the analysis results are handled by `MultiTimepointAnalyser`).  \n",
    "In the future there may be more `SimulationAnalysers`.  \n",
    "\n",
    "## Timepoint Analysers\n",
    "\n",
    "\n",
    "### Tumour Roundness\n",
    "Draws alpha shape around 'Tumour' cells, and calculates the circularity of this shape (see source code for details).  \n"
   ]
  },
  {
   "cell_type": "code",
   "execution_count": null,
   "metadata": {},
   "outputs": [],
   "source": [
    "roundness_analyser = cmm.analysers.RoundnessAnalyser(alpha=.5)\n",
    "print(str(roundness_analyser))"
   ]
  },
  {
   "cell_type": "markdown",
   "metadata": {},
   "source": [
    "\n",
    "### Cellcounts in Tumour Subregions\n"
   ]
  },
  {
   "cell_type": "markdown",
   "metadata": {},
   "source": [
    "\n",
    "###  PCF Analysis"
   ]
  },
  {
   "cell_type": "markdown",
   "metadata": {},
   "source": [
    "## MultiTimepointAnalyser (Analysis result over time)"
   ]
  },
  {
   "cell_type": "markdown",
   "metadata": {},
   "source": []
  }
 ],
 "metadata": {
  "kernelspec": {
   "display_name": "venv",
   "language": "python",
   "name": "python3"
  },
  "language_info": {
   "codemirror_mode": {
    "name": "ipython",
    "version": 3
   },
   "file_extension": ".py",
   "mimetype": "text/x-python",
   "name": "python",
   "nbconvert_exporter": "python",
   "pygments_lexer": "ipython3",
   "version": "3.12.3"
  }
 },
 "nbformat": 4,
 "nbformat_minor": 2
}
