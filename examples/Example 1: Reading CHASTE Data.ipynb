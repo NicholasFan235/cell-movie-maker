{
 "cells": [
  {
   "cell_type": "code",
   "execution_count": 1,
   "metadata": {},
   "outputs": [],
   "source": [
    "import cell_movie_maker as cmm\n",
    "import matplotlib.pyplot as plt\n",
    "import pathlib\n",
    "\n",
    "\n",
    "from IPython.display import display\n",
    "import IPython.display\n"
   ]
  },
  {
   "cell_type": "markdown",
   "metadata": {},
   "source": [
    "# Configuration\n",
    "It is useful to configure cell-movie-maker with some folders so to help it automatically find simulations and store outputs to sensible places  \n",
    "\n",
    "Configurations are stored in a `Singleton` type structure i.e. there is exactly one configuration for each Python runtime.  \n",
    "\n",
    "NOTE: Due to issues with ffmpeg, if the path to the output_folder has '-' or ' ' characters I encounter issues.  "
   ]
  },
  {
   "cell_type": "code",
   "execution_count": 2,
   "metadata": {},
   "outputs": [],
   "source": [
    "# Folder CHASTE is configured to write to\n",
    "cmm.Config.simulations_folder = pathlib.Path(\"chaste_output\")\n",
    "\n",
    "# By default where to store analysis results\n",
    "cmm.Config.output_folder = pathlib.Path(\"analysis_output\")\n",
    "\n",
    "# Optional: Link cell-movie-maker to a database which has simulation metadata stored.\n",
    "# This requires chaste-simulation-database-connector to be installed\n",
    "if False:\n",
    "    cmm.Config.set_simulation_database(pathlib.Path(\"analysis_output\", \"TCellABM.db\"))"
   ]
  },
  {
   "cell_type": "markdown",
   "metadata": {},
   "source": [
    "# Structure of CHASTE data in cell-movie-maker\n",
    "\n",
    "cell-movie-maker has `dataclasses` which organise CHASTE simulation data.  \n",
    "The highest level is `Experiment`, which stores a collection of CHASTE simulations. This will usually be the simulations from a parameter sweep.  \n",
    "\n",
    "The individual CHASTE simulations are stored in the `Simulation` class. This can be subclassed for alternative models (e.g. `MacrophageSimulation`)\n",
    "\n",
    "From each `Simulation` we can retrieve the saved timepoints, these are stored as a `SimulationTimepoint`. `SimulationTimepoint` can also be subclassed for alternative models (e.g. `MacrophageSimulationTimepoint`)\n",
    "\n",
    "## Loading Experiments"
   ]
  },
  {
   "cell_type": "code",
   "execution_count": 3,
   "metadata": {},
   "outputs": [
    {
     "name": "stdout",
     "output_type": "stream",
     "text": [
      "Found experiment folder: chaste-output/TCellABM\n"
     ]
    }
   ],
   "source": [
    "# Create experiment given exact path\n",
    "experiment = cmm.Experiment(pathlib.Path(\"chaste-output\", \"TCellABM\"))\n",
    "\n",
    "# Load experiment by name. This will search for the experiment in `cmm.Config.simulations_folder``\n",
    "experiment = cmm.load_experiment('TCellABM')\n",
    "# Note this uses factory pattern in case Experiment is subclassed for specific models\n",
    "# e.g. experiment = cmm.load_experiment('TCellABM', cls=cmm.Experiment)\n",
    "print(f\"Found experiment folder: {experiment.experiment_folder}\")"
   ]
  },
  {
   "cell_type": "markdown",
   "metadata": {},
   "source": [
    "Check what sims are part of the experiment (in this case only 1)"
   ]
  },
  {
   "cell_type": "code",
   "execution_count": 4,
   "metadata": {},
   "outputs": [
    {
     "name": "stdout",
     "output_type": "stream",
     "text": [
      "Found sim_ids: [1520]\n",
      "In folders: [PosixPath('chaste-output/TCellABM/sim_1520/results_from_time_0')]\n"
     ]
    }
   ],
   "source": [
    "print(f\"Found sim_ids: {experiment.sim_ids}\")\n",
    "print(f\"In folders: {experiment.sim_folders}\")"
   ]
  },
  {
   "cell_type": "markdown",
   "metadata": {},
   "source": [
    "## Retrieving Simulations"
   ]
  },
  {
   "cell_type": "code",
   "execution_count": 5,
   "metadata": {},
   "outputs": [
    {
     "name": "stdout",
     "output_type": "stream",
     "text": [
      "Simulation folder: chaste-output/TCellABM/sim_1520/results_from_time_0\n",
      "Name: TCellABM, ID: sim_1520, Iteration: 1520\n",
      "Sample of saved timesteps: [0, 6000, 12000, 18000, 24000, 30000, 36000, 42000, 48000, 54000, 60000]\n"
     ]
    }
   ],
   "source": [
    "# Read simulation given exact path\n",
    "simulation = cmm.Simulation(pathlib.Path(\"chaste-output\", \"TCellABM\", \"sim_1520\", \"results_from_time_0\"))\n",
    "\n",
    "# Load simulation from experiment given sim_id\n",
    "simulation = experiment.read_simulation(1520)\n",
    "\n",
    "# Through slight trickery we can also read simulations using indices / slice notation\n",
    "# List of all simulations\n",
    "simulations = experiment.simulations[:]\n",
    "# Get zeroth simulation\n",
    "simulation = experiment.simulations[0]\n",
    "\n",
    "print(f\"Simulation folder: {simulation.results_folder}\")\n",
    "print(f\"Name: {simulation.name}, ID: {simulation.id}, Iteration: {simulation.iteration}\")\n",
    "print(f\"Sample of saved timesteps: {simulation.results_timesteps[::10]}\")"
   ]
  },
  {
   "cell_type": "markdown",
   "metadata": {},
   "source": [
    "Most of the time `experiment.read_simulation(sim_id)` is the most useful.  \n",
    "Alternatives are sometimes useful  "
   ]
  },
  {
   "cell_type": "markdown",
   "metadata": {},
   "source": [
    "## Retrieving SimulationTimepoints"
   ]
  },
  {
   "cell_type": "code",
   "execution_count": 6,
   "metadata": {},
   "outputs": [
    {
     "data": {
      "text/plain": [
       "dict_keys(['ACCD_S', 'ACCD_T', 'AngiogenesisDelay', 'AngiogenesisRadius', 'CCL5CD8Sensitivity', 'CCL5ConsumptionCoefficient', 'CCL5DecayRate', 'CCL5DiffusionCoefficient', 'CCL5DuDtCoefficient', 'CCL5ExtravasationThreshold', 'CCL5InitialSolutionFile', 'CCL5PDEStepSize', 'CCL5SourceCoefficient', 'CD8DiffusionCoefficient', 'CD8InitialPotency', 'CD8MinPotency', 'CXCL9ConcHalfMaximalForce', 'CXCL9ConsumptionCoefficient', 'CXCL9DecayRate', 'CXCL9DiffusionCoefficient', 'CXCL9DuDtCoefficient', 'CXCL9InitialSolutionFile', 'CXCL9PDEStepSize', 'CXCL9SourceCoefficient', 'ConfigurationSeed', 'DTBV', 'DamageThreshold', 'DampingConstant', 'DecayRateInECMMultiplier', 'ECMDensityDampingMultiplier', 'ECMDensityFrictionMultiplier', 'EndTime', 'Flag', 'FrictionStrength', 'HEIGHT', 'ID', 'IFNgConcHalfMaximalCXCL9', 'IFNgConsumptionCoefficient', 'IFNgDecayRate', 'IFNgDiffusionCoefficient', 'IFNgDuDtCoefficient', 'IFNgInitialSolutionFile', 'IFNgPDEStepSize', 'IFNgSourceCoefficient', 'IT', 'InitialMacrophageCount', 'InitialSolutionFile', 'InteractionProbPerHour', 'InteractionRadius', 'MPOE', 'MacrophageProbability', 'MaxCellCount', 'MeinekeSpringStiffness', 'NOBV', 'NOBV_PRUNED', 'OxygenConsumptionCoefficient', 'OxygenDecayRate', 'OxygenDiffusionCoefficient', 'OxygenInitialSolutionFile', 'OxygenPDEStepSize', 'OxygenSourceCoefficient', 'PDEStepSize', 'PotencyMulPerHit', 'RegrowthProbability', 'Seed', 'SimulationOutputsPerHour', 'StromaHypoxicConcentration', 'StromaNecroticConcentration', 'TumourHypoxicConcentration', 'TumourNecroticConcentration', 'TumourQuiescenceVolume', 'VesselHypoxicThreshold', 'VesselMaxRadius', 'VesselMinRadius', 'VesselOccludedDeathDelay', 'VesselOcclusionThreshold', 'VesselPressure', 'VesselRadiusDamping', 'WIDTH'])"
      ]
     },
     "metadata": {},
     "output_type": "display_data"
    }
   ],
   "source": [
    "# Simulation parameters\n",
    "IPython.display.display_pretty(simulation.parameters.keys())"
   ]
  },
  {
   "cell_type": "code",
   "execution_count": 7,
   "metadata": {},
   "outputs": [],
   "source": [
    "# Multiple ways for getting timepoints\n",
    "\n",
    "# Read SimulationTimepoint at t=30000\n",
    "timepoint = simulation.read_timepoint(30000)\n",
    "\n",
    "# We can access timepoints as if they were a list of them inside the simulation\n",
    "# This lets us use index / slice notation to retrieve timepoints.\n",
    "# NOTE: Through trickery this is not memory intensive, the requested simulations are read on request\n",
    "# Example uses:\n",
    "# Get every 10 timepoints\n",
    "timepoints = simulation.timepoints[::10]\n",
    "# Get first timepoint\n",
    "timepoint = simulation.timepoints[0]\n",
    "# Get final timepoint\n",
    "timepoint = simulation.timepoints[-1]"
   ]
  },
  {
   "cell_type": "markdown",
   "metadata": {},
   "source": [
    "## What is stored in a timepoint?"
   ]
  },
  {
   "cell_type": "code",
   "execution_count": 8,
   "metadata": {},
   "outputs": [
    {
     "name": "stdout",
     "output_type": "stream",
     "text": [
      "Name: TCellABM, ID: sim_1520, timestep: 60000\n"
     ]
    },
    {
     "data": {
      "text/html": [
       "<div>\n",
       "<style scoped>\n",
       "    .dataframe tbody tr th:only-of-type {\n",
       "        vertical-align: middle;\n",
       "    }\n",
       "\n",
       "    .dataframe tbody tr th {\n",
       "        vertical-align: top;\n",
       "    }\n",
       "\n",
       "    .dataframe thead th {\n",
       "        text-align: right;\n",
       "    }\n",
       "</style>\n",
       "<table border=\"1\" class=\"dataframe\">\n",
       "  <thead>\n",
       "    <tr style=\"text-align: right;\">\n",
       "      <th></th>\n",
       "      <th>x</th>\n",
       "      <th>y</th>\n",
       "      <th>z</th>\n",
       "      <th>volume</th>\n",
       "      <th>radius</th>\n",
       "      <th>Ages</th>\n",
       "      <th>potency</th>\n",
       "      <th>damage</th>\n",
       "      <th>oxygen</th>\n",
       "      <th>ccl5</th>\n",
       "      <th>cxcl9</th>\n",
       "      <th>ifn-gamma</th>\n",
       "      <th>density</th>\n",
       "      <th>cell_type</th>\n",
       "      <th>damping_coefficient</th>\n",
       "      <th>friction</th>\n",
       "      <th>pressure</th>\n",
       "      <th>target_radius</th>\n",
       "      <th>tissue_stress</th>\n",
       "    </tr>\n",
       "  </thead>\n",
       "  <tbody>\n",
       "    <tr>\n",
       "      <th>905</th>\n",
       "      <td>13.618998</td>\n",
       "      <td>58.798738</td>\n",
       "      <td>0.0</td>\n",
       "      <td>0.341813</td>\n",
       "      <td>0.329852</td>\n",
       "      <td>189.400000</td>\n",
       "      <td>0.384511</td>\n",
       "      <td>NaN</td>\n",
       "      <td>0.922547</td>\n",
       "      <td>0.438602</td>\n",
       "      <td>0.0</td>\n",
       "      <td>0.322995</td>\n",
       "      <td>0.0</td>\n",
       "      <td>T Cell</td>\n",
       "      <td>1.0</td>\n",
       "      <td>0.625</td>\n",
       "      <td>2.403499</td>\n",
       "      <td>0.4</td>\n",
       "      <td>1.753699e-01</td>\n",
       "    </tr>\n",
       "    <tr>\n",
       "      <th>3254</th>\n",
       "      <td>13.247003</td>\n",
       "      <td>87.136437</td>\n",
       "      <td>0.0</td>\n",
       "      <td>0.502655</td>\n",
       "      <td>0.400000</td>\n",
       "      <td>29.258333</td>\n",
       "      <td>0.500000</td>\n",
       "      <td>NaN</td>\n",
       "      <td>0.874640</td>\n",
       "      <td>0.188585</td>\n",
       "      <td>0.0</td>\n",
       "      <td>0.062051</td>\n",
       "      <td>0.0</td>\n",
       "      <td>T Cell</td>\n",
       "      <td>1.0</td>\n",
       "      <td>0.625</td>\n",
       "      <td>0.000000</td>\n",
       "      <td>0.4</td>\n",
       "      <td>-2.220446e-16</td>\n",
       "    </tr>\n",
       "    <tr>\n",
       "      <th>2318</th>\n",
       "      <td>34.110282</td>\n",
       "      <td>21.263383</td>\n",
       "      <td>0.0</td>\n",
       "      <td>0.502655</td>\n",
       "      <td>0.400000</td>\n",
       "      <td>83.441667</td>\n",
       "      <td>0.500000</td>\n",
       "      <td>NaN</td>\n",
       "      <td>0.792075</td>\n",
       "      <td>0.514508</td>\n",
       "      <td>0.0</td>\n",
       "      <td>0.416100</td>\n",
       "      <td>0.0</td>\n",
       "      <td>T Cell</td>\n",
       "      <td>1.0</td>\n",
       "      <td>0.625</td>\n",
       "      <td>0.000000</td>\n",
       "      <td>0.4</td>\n",
       "      <td>-2.220446e-16</td>\n",
       "    </tr>\n",
       "    <tr>\n",
       "      <th>1164</th>\n",
       "      <td>66.271842</td>\n",
       "      <td>43.438258</td>\n",
       "      <td>0.0</td>\n",
       "      <td>0.502655</td>\n",
       "      <td>0.400000</td>\n",
       "      <td>165.108333</td>\n",
       "      <td>0.434063</td>\n",
       "      <td>NaN</td>\n",
       "      <td>0.219821</td>\n",
       "      <td>0.613679</td>\n",
       "      <td>0.0</td>\n",
       "      <td>0.705657</td>\n",
       "      <td>0.0</td>\n",
       "      <td>T Cell</td>\n",
       "      <td>1.0</td>\n",
       "      <td>0.625</td>\n",
       "      <td>0.000000</td>\n",
       "      <td>0.4</td>\n",
       "      <td>-2.220446e-16</td>\n",
       "    </tr>\n",
       "    <tr>\n",
       "      <th>1600</th>\n",
       "      <td>27.036108</td>\n",
       "      <td>62.499566</td>\n",
       "      <td>0.0</td>\n",
       "      <td>0.502655</td>\n",
       "      <td>0.400000</td>\n",
       "      <td>131.058333</td>\n",
       "      <td>0.434063</td>\n",
       "      <td>NaN</td>\n",
       "      <td>0.416731</td>\n",
       "      <td>0.485306</td>\n",
       "      <td>0.0</td>\n",
       "      <td>0.595030</td>\n",
       "      <td>0.0</td>\n",
       "      <td>T Cell</td>\n",
       "      <td>1.0</td>\n",
       "      <td>0.625</td>\n",
       "      <td>2.097374</td>\n",
       "      <td>0.4</td>\n",
       "      <td>-2.220446e-16</td>\n",
       "    </tr>\n",
       "  </tbody>\n",
       "</table>\n",
       "</div>"
      ],
      "text/plain": [
       "              x          y    z    volume    radius        Ages   potency  \\\n",
       "905   13.618998  58.798738  0.0  0.341813  0.329852  189.400000  0.384511   \n",
       "3254  13.247003  87.136437  0.0  0.502655  0.400000   29.258333  0.500000   \n",
       "2318  34.110282  21.263383  0.0  0.502655  0.400000   83.441667  0.500000   \n",
       "1164  66.271842  43.438258  0.0  0.502655  0.400000  165.108333  0.434063   \n",
       "1600  27.036108  62.499566  0.0  0.502655  0.400000  131.058333  0.434063   \n",
       "\n",
       "      damage    oxygen      ccl5  cxcl9  ifn-gamma  density cell_type  \\\n",
       "905      NaN  0.922547  0.438602    0.0   0.322995      0.0    T Cell   \n",
       "3254     NaN  0.874640  0.188585    0.0   0.062051      0.0    T Cell   \n",
       "2318     NaN  0.792075  0.514508    0.0   0.416100      0.0    T Cell   \n",
       "1164     NaN  0.219821  0.613679    0.0   0.705657      0.0    T Cell   \n",
       "1600     NaN  0.416731  0.485306    0.0   0.595030      0.0    T Cell   \n",
       "\n",
       "      damping_coefficient  friction  pressure  target_radius  tissue_stress  \n",
       "905                   1.0     0.625  2.403499            0.4   1.753699e-01  \n",
       "3254                  1.0     0.625  0.000000            0.4  -2.220446e-16  \n",
       "2318                  1.0     0.625  0.000000            0.4  -2.220446e-16  \n",
       "1164                  1.0     0.625  0.000000            0.4  -2.220446e-16  \n",
       "1600                  1.0     0.625  2.097374            0.4  -2.220446e-16  "
      ]
     },
     "metadata": {},
     "output_type": "display_data"
    },
    {
     "name": "stdout",
     "output_type": "stream",
     "text": [
      "204 blood vessels\n",
      "3484 T-cells\n",
      "32 tumour cells\n"
     ]
    }
   ],
   "source": [
    "# Basic Info\n",
    "print(f'Name: {timepoint.name}, ID: {timepoint.id}, timestep: {timepoint.timestep}')\n",
    "# Cell Data\n",
    "display(timepoint.data.sample(5, random_state=42))\n",
    "\n",
    "# For specific models helper functions can be added to timepoints to retrieve a subset of `timepoint.data` e.g.\n",
    "# Blood vessels\n",
    "print(f'{len(timepoint.blood_vessel_data)} blood vessels')\n",
    "# T-Cells\n",
    "print(f'{len(timepoint.cytotoxic_data)} T-cells')\n",
    "# Tumour\n",
    "print(f'{len(timepoint.tumour_data)} tumour cells')"
   ]
  },
  {
   "cell_type": "markdown",
   "metadata": {},
   "source": [
    "### PDE Outputs\n",
    "For details of this see the `SimulationTimepoint` implementation.  \n",
    "`SimulationTimepoint` should be subclassed for each model to make retrieving PDE data easier.  \n",
    "e.g. for TCellABM we can read PDEs"
   ]
  },
  {
   "cell_type": "code",
   "execution_count": 9,
   "metadata": {},
   "outputs": [
    {
     "data": {
      "image/png": "[encoded data removed]",
      "text/plain": [
       "<Figure size 600x400 with 2 Axes>"
      ]
     },
     "metadata": {},
     "output_type": "display_data"
    }
   ],
   "source": [
    "fig, ax = plt.subplots(1,1, figsize=(6,4))\n",
    "\n",
    "ax.set_aspect(1)\n",
    "ax.set_xticks([])\n",
    "ax.set_yticks([])\n",
    "\n",
    "cm = ax.pcolormesh(timepoint.oxygen_data, cmap='cividis')\n",
    "fig.colorbar(cm, ax=ax, label='Oxygen')\n",
    "\n",
    "plt.show(fig)\n",
    "plt.close(fig)"
   ]
  },
  {
   "cell_type": "markdown",
   "metadata": {},
   "source": [
    "# Note on Parallelism\n",
    "Framework enables running analysis on all simulation timepoints in parallel.  \n",
    "Useful to know this exists. However shouldn't usually have to use this low level implementation.  \n",
    "Instead use other classes which make heavy use of this parallelism functionality.    "
   ]
  },
  {
   "cell_type": "markdown",
   "metadata": {},
   "source": [
    "## Running some function on multiple timepoints of a simulation"
   ]
  },
  {
   "cell_type": "markdown",
   "metadata": {},
   "source": [
    "Sample function which simply returns number of cells at a given timepoint.\n",
    "\n",
    "Function will be applied to each timepoint and can return analysis.  \n",
    "To use framework to do this, function should follow this pattern"
   ]
  },
  {
   "cell_type": "code",
   "execution_count": 10,
   "metadata": {},
   "outputs": [],
   "source": [
    "def process_some_timepoint(args:tuple[cmm.Simulation,cmm.SimulationTimepoint,int]):\n",
    "    sim, tp, frame_number = args\n",
    "    \n",
    "    # Return number of tumour cells in the timepoint\n",
    "    return len(tp.tumour_data)"
   ]
  },
  {
   "cell_type": "markdown",
   "metadata": {},
   "source": [
    "Apply this function to every timepoint.  \n",
    "This lets us plot a trajectory (NOTE: this is an example, not recommended way to get cellcounts)"
   ]
  },
  {
   "cell_type": "code",
   "execution_count": 11,
   "metadata": {},
   "outputs": [
    {
     "name": "stderr",
     "output_type": "stream",
     "text": [
      "101it [00:00, 885.64it/s]            \n"
     ]
    },
    {
     "data": {
      "image/png": "[encoded data removed]",
      "text/plain": [
       "<Figure size 400x300 with 1 Axes>"
      ]
     },
     "metadata": {},
     "output_type": "display_data"
    }
   ],
   "source": [
    "n_tumour = simulation.for_timepoint_single_thread(process_some_timepoint, start=0, stop=None, step=1)\n",
    "\n",
    "fig, ax = plt.subplots(1,1, figsize=(4,3))\n",
    "ax.plot(simulation.results_timesteps, n_tumour, 'kx')\n",
    "plt.show(fig)\n",
    "plt.close(fig)"
   ]
  },
  {
   "cell_type": "markdown",
   "metadata": {},
   "source": [
    "Can apply this function to each timepoint in parallel.  \n",
    "NOTE Due to python having GIL, this uses multiprocessing (not multithreading).  "
   ]
  },
  {
   "cell_type": "code",
   "execution_count": 12,
   "metadata": {},
   "outputs": [
    {
     "name": "stderr",
     "output_type": "stream",
     "text": [
      "100%|██████████| 101/101 [00:00<00:00, 536.10it/s]\n"
     ]
    },
    {
     "data": {
      "image/png": "[encoded data removed]",
      "text/plain": [
       "<Figure size 400x300 with 1 Axes>"
      ]
     },
     "metadata": {},
     "output_type": "display_data"
    }
   ],
   "source": [
    "n_tumour = simulation.for_timepoint(process_some_timepoint, start=0, stop=None, step=1)\n",
    "\n",
    "fig, ax = plt.subplots(1,1, figsize=(4,3))\n",
    "ax.plot(simulation.results_timesteps, n_tumour, 'kx')\n",
    "plt.show(fig)\n",
    "plt.close(fig)"
   ]
  }
 ],
 "metadata": {
  "kernelspec": {
   "display_name": "venv",
   "language": "python",
   "name": "python3"
  },
  "language_info": {
   "codemirror_mode": {
    "name": "ipython",
    "version": 3
   },
   "file_extension": ".py",
   "mimetype": "text/x-python",
   "name": "python",
   "nbconvert_exporter": "python",
   "pygments_lexer": "ipython3",
   "version": "3.10.12"
  }
 },
 "nbformat": 4,
 "nbformat_minor": 2
}
