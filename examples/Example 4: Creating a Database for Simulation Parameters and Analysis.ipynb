{
 "cells": [
  {
   "cell_type": "code",
   "execution_count": 10,
   "metadata": {},
   "outputs": [],
   "source": [
    "import cell_movie_maker as cmm\n",
    "import chaste_simulation_database_connector as csdc\n",
    "import matplotlib.pyplot as plt\n",
    "import numpy as np\n",
    "import pathlib\n",
    "\n",
    "\n",
    "from IPython.display import display\n",
    "import IPython.display\n",
    "\n",
    "\n",
    "cmm.Config.simulations_folder = pathlib.Path(\"chaste_output\")\n",
    "cmm.Config.output_folder = pathlib.Path(\"analysis_output\")\n",
    "\n",
    "experiment = cmm.Experiment(pathlib.Path(\"chaste_output\", \"TCellABM\"))\n",
    "simulation = experiment.simulations[0]\n",
    "sample_timepoint = simulation.timepoints[50]\n"
   ]
  },
  {
   "cell_type": "markdown",
   "metadata": {},
   "source": [
    "# Creating and Writing to the Database\n",
    "For reading from the database see next example  \n",
    "\n",
    "This requires chaste-simulation-database-connector module"
   ]
  },
  {
   "cell_type": "markdown",
   "metadata": {},
   "source": [
    "Setting the database path in cmm.Config will create the database if it does not exist"
   ]
  },
  {
   "cell_type": "code",
   "execution_count": 11,
   "metadata": {},
   "outputs": [],
   "source": [
    "cmm.Config.set_simulation_database(pathlib.Path(\"analysis_output\", \"TCellABM.db\"))"
   ]
  },
  {
   "cell_type": "markdown",
   "metadata": {},
   "source": [
    "# Writing Parameters"
   ]
  },
  {
   "cell_type": "code",
   "execution_count": 12,
   "metadata": {},
   "outputs": [
    {
     "name": "stderr",
     "output_type": "stream",
     "text": [
      "100%|██████████| 1/1 [00:00<00:00, 1051.73it/s]\n"
     ]
    }
   ],
   "source": [
    "ingest = cmm.csdc.ParametersIngest(cmm.Config.simulation_database)\n",
    "ingest.ingest_experiment(experiment)\n",
    "cmm.Config.simulation_database.commit()"
   ]
  },
  {
   "cell_type": "markdown",
   "metadata": {},
   "source": [
    "# Writing Preprocessing\n",
    "Framework for saving preprocessing to the database is separate from analysis (legacy reasons)  \n",
    "However it is stored in the same place as other analysis, and reading the data back can be done identical to other analysis methods.  "
   ]
  },
  {
   "cell_type": "code",
   "execution_count": 13,
   "metadata": {},
   "outputs": [
    {
     "name": "stderr",
     "output_type": "stream",
     "text": [
      "100%|██████████| 1/1 [00:00<00:00, 295.27it/s]\n"
     ]
    }
   ],
   "source": [
    "ingest = cmm.csdc.InfoIngester(cmm.Config.simulation_database)\n",
    "ingest.ingest_experiment(experiment)\n",
    "cmm.Config.simulation_database.commit()"
   ]
  },
  {
   "cell_type": "markdown",
   "metadata": {},
   "source": [
    "# Writing Analysis\n",
    "Depending on whether each analysis_result should be a table for each timepoint (e.g. PCF), or a table with rows as timesteps and columns as analysis results (e.g. roundness or cellcounts)  \n",
    "We use either `TimepointAnalysisIngest` or `SimulationAnalysisIngest`.  \n",
    "\n",
    "Many of these classes will make use of multiprocessing to parallelize analysis (parameter nproc).  \n",
    "By default if analysis has already been performed it will not be performed again (parameter skip_existing).  \n",
    "batch_size parameter is how many simulations to process at a time before saving to the database, this allows analysis ingester to restore midway if there is a crash halfway through processing a large parameter sweep.  \n",
    "\n",
    "## `SimulationAnalysisIngest`\n",
    "\n",
    "### Roundness"
   ]
  },
  {
   "cell_type": "code",
   "execution_count": 14,
   "metadata": {},
   "outputs": [
    {
     "name": "stderr",
     "output_type": "stream",
     "text": [
      "100%|██████████| 1/1 [00:37<00:00, 37.13s/it]\n"
     ]
    }
   ],
   "source": [
    "analyser = cmm.analysers.MultiTimepointAnalyser(\n",
    "    cmm.analysers.RoundnessAnalyser(.5), slice(None,None,-1))\n",
    "ingest = cmm.csdc.SimulationAnalysisIngest(cmm.Config.simulation_database, skip_existing=False)\n",
    "ingest.ingest_experiment(experiment, analyser)\n",
    "cmm.Config.simulation_database.commit()"
   ]
  },
  {
   "cell_type": "markdown",
   "metadata": {},
   "source": [
    "### Tumour Size Analysis"
   ]
  },
  {
   "cell_type": "code",
   "execution_count": 17,
   "metadata": {},
   "outputs": [
    {
     "name": "stderr",
     "output_type": "stream",
     "text": [
      "100%|██████████| 1/1 [00:43<00:00, 43.34s/it]\n"
     ]
    }
   ],
   "source": [
    "analyser = cmm.analysers.MultiTimepointAnalyser(\n",
    "    cmm.analysers.TumourRegionSizesAnalyser(.5), slice(None, None, -1))\n",
    "ingest = cmm.csdc.SimulationAnalysisIngest(cmm.Config.simulation_database, skip_existing=False)\n",
    "ingest.ingest_experiment(experiment, analyser)\n",
    "cmm.Config.simulation_database.commit()"
   ]
  },
  {
   "cell_type": "markdown",
   "metadata": {},
   "source": [
    "### Tumour Region T-Cell Counts"
   ]
  },
  {
   "cell_type": "code",
   "execution_count": 15,
   "metadata": {},
   "outputs": [
    {
     "name": "stderr",
     "output_type": "stream",
     "text": [
      "100%|██████████| 1/1 [00:47<00:00, 47.76s/it]\n"
     ]
    }
   ],
   "source": [
    "analyser = cmm.analysers.MultiTimepointAnalyser(\n",
    "    cmm.analysers.TumourRegionTCellCountAnalyser(.5), slice(None, None, -1))\n",
    "ingest = cmm.csdc.SimulationAnalysisIngest(cmm.Config.simulation_database, skip_existing=False)\n",
    "ingest.ingest_experiment(experiment, analyser)\n",
    "cmm.Config.simulation_database.commit()"
   ]
  },
  {
   "cell_type": "markdown",
   "metadata": {},
   "source": [
    "## `TimepointAnalysisIngest`\n",
    "### PCF Analysis\n",
    "Analyse every 5th timepoint"
   ]
  },
  {
   "cell_type": "code",
   "execution_count": 16,
   "metadata": {},
   "outputs": [
    {
     "name": "stdout",
     "output_type": "stream",
     "text": [
      "Tumour-Vessel\n"
     ]
    },
    {
     "name": "stderr",
     "output_type": "stream",
     "text": [
      "Checking sim batch: 100%|██████████| 1/1 [00:00<00:00,  2.45it/s]\n",
      "Performing analysis: 100%|██████████| 21/21 [00:30<00:00,  1.43s/it]\n"
     ]
    },
    {
     "name": "stdout",
     "output_type": "stream",
     "text": [
      "Tumour-Tumour\n"
     ]
    },
    {
     "name": "stderr",
     "output_type": "stream",
     "text": [
      "Checking sim batch: 100%|██████████| 1/1 [00:00<00:00,  2.95it/s]\n",
      "Performing analysis: 100%|██████████| 21/21 [00:33<00:00,  1.59s/it]\n"
     ]
    },
    {
     "name": "stdout",
     "output_type": "stream",
     "text": [
      "TCell-TCell\n"
     ]
    },
    {
     "name": "stderr",
     "output_type": "stream",
     "text": [
      "Checking sim batch: 100%|██████████| 1/1 [00:00<00:00,  2.63it/s]\n",
      "Performing analysis: 100%|██████████| 21/21 [00:40<00:00,  1.92s/it]\n"
     ]
    },
    {
     "name": "stdout",
     "output_type": "stream",
     "text": [
      "Vessel-TCell\n"
     ]
    },
    {
     "name": "stderr",
     "output_type": "stream",
     "text": [
      "Checking sim batch: 100%|██████████| 1/1 [00:00<00:00,  2.88it/s]\n",
      "Performing analysis: 100%|██████████| 21/21 [00:04<00:00,  4.39it/s]\n"
     ]
    },
    {
     "name": "stdout",
     "output_type": "stream",
     "text": [
      "Tumour-TCell\n"
     ]
    },
    {
     "name": "stderr",
     "output_type": "stream",
     "text": [
      "Checking sim batch: 100%|██████████| 1/1 [00:00<00:00,  2.69it/s]\n",
      "Performing analysis: 100%|██████████| 21/21 [00:32<00:00,  1.55s/it]\n"
     ]
    }
   ],
   "source": [
    "ingest = cmm.csdc.TimepointAnalysisIngest(cmm.Config.simulation_database, timestep_slice=slice(None,None,-5), skip_existing=True)\n",
    "\n",
    "print(\"Tumour-Vessel\")\n",
    "ingest.ingest_experiment(\n",
    "    experiment, \n",
    "    cmm.analysers.TumourVesselPCFAnalyser(r_max=50, dr=1, step=1))\n",
    "\n",
    "print(\"Tumour-Tumour\")\n",
    "ingest.ingest_experiment(\n",
    "    experiment, \n",
    "    cmm.analysers.TumourTumourPCFAnalyser(r_max=50, dr=1, step=1))\n",
    "\n",
    "print(\"TCell-TCell\")\n",
    "ingest.ingest_experiment(\n",
    "    experiment, \n",
    "    cmm.analysers.TCellTCellPCFAnalyser(r_max=50, dr=1, step=1))\n",
    "\n",
    "print(\"Vessel-TCell\")\n",
    "ingest.ingest_experiment(\n",
    "    experiment, \n",
    "    cmm.analysers.VesselTCellPCFAnalyser(r_max=50, dr=1, step=1))\n",
    "\n",
    "print(\"Tumour-TCell\")\n",
    "ingest.ingest_experiment(\n",
    "    experiment, \n",
    "    cmm.analysers.TumourTCellPCFAnalyser(r_max=50, dr=1, step=1))\n",
    "\n"
   ]
  }
 ],
 "metadata": {
  "kernelspec": {
   "display_name": "venv",
   "language": "python",
   "name": "python3"
  },
  "language_info": {
   "codemirror_mode": {
    "name": "ipython",
    "version": 3
   },
   "file_extension": ".py",
   "mimetype": "text/x-python",
   "name": "python",
   "nbconvert_exporter": "python",
   "pygments_lexer": "ipython3",
   "version": "3.12.3"
  }
 },
 "nbformat": 4,
 "nbformat_minor": 2
}
